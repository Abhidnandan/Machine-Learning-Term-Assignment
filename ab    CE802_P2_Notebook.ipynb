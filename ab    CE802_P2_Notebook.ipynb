{
 "cells": [
  {
   "cell_type": "markdown",
   "metadata": {},
   "source": [
    "# Part A\n",
    "\n"
   ]
  },
  {
   "cell_type": "code",
   "execution_count": 1,
   "metadata": {},
   "outputs": [],
   "source": [
    "# HERE YOU WILL WRITE CODE TO TEST A NUMBER OF PREDICTORS\n",
    "\n",
    "import numpy as np\n",
    "import pandas as pd\n"
   ]
  },
  {
   "cell_type": "code",
   "execution_count": 2,
   "metadata": {},
   "outputs": [
    {
     "data": {
      "text/html": [
       "<div>\n",
       "<style scoped>\n",
       "    .dataframe tbody tr th:only-of-type {\n",
       "        vertical-align: middle;\n",
       "    }\n",
       "\n",
       "    .dataframe tbody tr th {\n",
       "        vertical-align: top;\n",
       "    }\n",
       "\n",
       "    .dataframe thead th {\n",
       "        text-align: right;\n",
       "    }\n",
       "</style>\n",
       "<table border=\"1\" class=\"dataframe\">\n",
       "  <thead>\n",
       "    <tr style=\"text-align: right;\">\n",
       "      <th></th>\n",
       "      <th>F1</th>\n",
       "      <th>F2</th>\n",
       "      <th>F3</th>\n",
       "      <th>F4</th>\n",
       "      <th>F5</th>\n",
       "      <th>F6</th>\n",
       "      <th>F7</th>\n",
       "      <th>F8</th>\n",
       "      <th>F9</th>\n",
       "      <th>F10</th>\n",
       "      <th>...</th>\n",
       "      <th>F13</th>\n",
       "      <th>F14</th>\n",
       "      <th>F15</th>\n",
       "      <th>F16</th>\n",
       "      <th>F17</th>\n",
       "      <th>F18</th>\n",
       "      <th>F19</th>\n",
       "      <th>F20</th>\n",
       "      <th>F21</th>\n",
       "      <th>Class</th>\n",
       "    </tr>\n",
       "  </thead>\n",
       "  <tbody>\n",
       "    <tr>\n",
       "      <th>0</th>\n",
       "      <td>1.6430</td>\n",
       "      <td>0</td>\n",
       "      <td>-4894.24</td>\n",
       "      <td>-13.0281</td>\n",
       "      <td>-4.793400</td>\n",
       "      <td>0</td>\n",
       "      <td>5.1270</td>\n",
       "      <td>-17.1100</td>\n",
       "      <td>-63.340</td>\n",
       "      <td>3.61690</td>\n",
       "      <td>...</td>\n",
       "      <td>5.783440</td>\n",
       "      <td>-11315.46</td>\n",
       "      <td>22912.53</td>\n",
       "      <td>-0.4</td>\n",
       "      <td>103811.34</td>\n",
       "      <td>5.4380</td>\n",
       "      <td>1747.920</td>\n",
       "      <td>-4879.68</td>\n",
       "      <td>-41.58</td>\n",
       "      <td>False</td>\n",
       "    </tr>\n",
       "    <tr>\n",
       "      <th>1</th>\n",
       "      <td>0.5310</td>\n",
       "      <td>0</td>\n",
       "      <td>-5085.44</td>\n",
       "      <td>-16.2210</td>\n",
       "      <td>-3.991776</td>\n",
       "      <td>0</td>\n",
       "      <td>4.6256</td>\n",
       "      <td>-4.5800</td>\n",
       "      <td>-10.314</td>\n",
       "      <td>3.64880</td>\n",
       "      <td>...</td>\n",
       "      <td>8.180000</td>\n",
       "      <td>-12852.96</td>\n",
       "      <td>25696.44</td>\n",
       "      <td>-0.4</td>\n",
       "      <td>103884.02</td>\n",
       "      <td>5.0960</td>\n",
       "      <td>1496.080</td>\n",
       "      <td>-4186.38</td>\n",
       "      <td>-45.96</td>\n",
       "      <td>True</td>\n",
       "    </tr>\n",
       "    <tr>\n",
       "      <th>2</th>\n",
       "      <td>0.2640</td>\n",
       "      <td>0</td>\n",
       "      <td>-7021.44</td>\n",
       "      <td>-11.7591</td>\n",
       "      <td>-6.161700</td>\n",
       "      <td>0</td>\n",
       "      <td>4.3628</td>\n",
       "      <td>-14.7118</td>\n",
       "      <td>-6.806</td>\n",
       "      <td>3.62830</td>\n",
       "      <td>...</td>\n",
       "      <td>5.760312</td>\n",
       "      <td>-11012.16</td>\n",
       "      <td>20232.84</td>\n",
       "      <td>-1.4</td>\n",
       "      <td>103987.08</td>\n",
       "      <td>2.3652</td>\n",
       "      <td>1523.412</td>\n",
       "      <td>-4067.28</td>\n",
       "      <td>NaN</td>\n",
       "      <td>False</td>\n",
       "    </tr>\n",
       "    <tr>\n",
       "      <th>3</th>\n",
       "      <td>0.3196</td>\n",
       "      <td>1</td>\n",
       "      <td>-4648.76</td>\n",
       "      <td>-11.8110</td>\n",
       "      <td>-4.217700</td>\n",
       "      <td>0</td>\n",
       "      <td>8.9380</td>\n",
       "      <td>-7.5360</td>\n",
       "      <td>-4.670</td>\n",
       "      <td>3.01503</td>\n",
       "      <td>...</td>\n",
       "      <td>6.437100</td>\n",
       "      <td>-10297.86</td>\n",
       "      <td>23592.84</td>\n",
       "      <td>-1.4</td>\n",
       "      <td>103842.08</td>\n",
       "      <td>4.4080</td>\n",
       "      <td>1506.810</td>\n",
       "      <td>1352.52</td>\n",
       "      <td>NaN</td>\n",
       "      <td>True</td>\n",
       "    </tr>\n",
       "    <tr>\n",
       "      <th>4</th>\n",
       "      <td>4.0800</td>\n",
       "      <td>0</td>\n",
       "      <td>-4877.20</td>\n",
       "      <td>-11.2635</td>\n",
       "      <td>-8.061000</td>\n",
       "      <td>1</td>\n",
       "      <td>6.2800</td>\n",
       "      <td>-14.5805</td>\n",
       "      <td>-45.920</td>\n",
       "      <td>3.60030</td>\n",
       "      <td>...</td>\n",
       "      <td>6.393200</td>\n",
       "      <td>-11527.38</td>\n",
       "      <td>24778.74</td>\n",
       "      <td>-1.4</td>\n",
       "      <td>103842.48</td>\n",
       "      <td>3.1334</td>\n",
       "      <td>1581.790</td>\n",
       "      <td>-5095.88</td>\n",
       "      <td>-45.93</td>\n",
       "      <td>True</td>\n",
       "    </tr>\n",
       "  </tbody>\n",
       "</table>\n",
       "<p>5 rows × 22 columns</p>\n",
       "</div>"
      ],
      "text/plain": [
       "       F1  F2       F3       F4        F5  F6      F7       F8      F9  \\\n",
       "0  1.6430   0 -4894.24 -13.0281 -4.793400   0  5.1270 -17.1100 -63.340   \n",
       "1  0.5310   0 -5085.44 -16.2210 -3.991776   0  4.6256  -4.5800 -10.314   \n",
       "2  0.2640   0 -7021.44 -11.7591 -6.161700   0  4.3628 -14.7118  -6.806   \n",
       "3  0.3196   1 -4648.76 -11.8110 -4.217700   0  8.9380  -7.5360  -4.670   \n",
       "4  4.0800   0 -4877.20 -11.2635 -8.061000   1  6.2800 -14.5805 -45.920   \n",
       "\n",
       "       F10  ...       F13       F14       F15  F16        F17     F18  \\\n",
       "0  3.61690  ...  5.783440 -11315.46  22912.53 -0.4  103811.34  5.4380   \n",
       "1  3.64880  ...  8.180000 -12852.96  25696.44 -0.4  103884.02  5.0960   \n",
       "2  3.62830  ...  5.760312 -11012.16  20232.84 -1.4  103987.08  2.3652   \n",
       "3  3.01503  ...  6.437100 -10297.86  23592.84 -1.4  103842.08  4.4080   \n",
       "4  3.60030  ...  6.393200 -11527.38  24778.74 -1.4  103842.48  3.1334   \n",
       "\n",
       "        F19      F20    F21  Class  \n",
       "0  1747.920 -4879.68 -41.58  False  \n",
       "1  1496.080 -4186.38 -45.96   True  \n",
       "2  1523.412 -4067.28    NaN  False  \n",
       "3  1506.810  1352.52    NaN   True  \n",
       "4  1581.790 -5095.88 -45.93   True  \n",
       "\n",
       "[5 rows x 22 columns]"
      ]
     },
     "execution_count": 2,
     "metadata": {},
     "output_type": "execute_result"
    }
   ],
   "source": [
    "#TO READ THE FILE FROM THE DATA SET\n",
    "d_file = pd.read_csv(r'CE802_P2_Data.csv')\n",
    "d_file.head()\n"
   ]
  },
  {
   "cell_type": "code",
   "execution_count": 3,
   "metadata": {},
   "outputs": [
    {
     "data": {
      "text/plain": [
       "F1         0\n",
       "F2         0\n",
       "F3         0\n",
       "F4         0\n",
       "F5         0\n",
       "F6         0\n",
       "F7         0\n",
       "F8         0\n",
       "F9         0\n",
       "F10        0\n",
       "F11        0\n",
       "F12        0\n",
       "F13        0\n",
       "F14        0\n",
       "F15        0\n",
       "F16        0\n",
       "F17        0\n",
       "F18        0\n",
       "F19        0\n",
       "F20        0\n",
       "F21      500\n",
       "Class      0\n",
       "dtype: int64"
      ]
     },
     "execution_count": 3,
     "metadata": {},
     "output_type": "execute_result"
    }
   ],
   "source": [
    "# TO CHECK THE MISSING VALUES\n",
    "d_file.isnull().sum()"
   ]
  },
  {
   "cell_type": "code",
   "execution_count": 4,
   "metadata": {},
   "outputs": [
    {
     "name": "stdout",
     "output_type": "stream",
     "text": [
      "<class 'pandas.core.frame.DataFrame'>\n",
      "RangeIndex: 1000 entries, 0 to 999\n",
      "Data columns (total 22 columns):\n",
      " #   Column  Non-Null Count  Dtype  \n",
      "---  ------  --------------  -----  \n",
      " 0   F1      1000 non-null   float64\n",
      " 1   F2      1000 non-null   int64  \n",
      " 2   F3      1000 non-null   float64\n",
      " 3   F4      1000 non-null   float64\n",
      " 4   F5      1000 non-null   float64\n",
      " 5   F6      1000 non-null   int64  \n",
      " 6   F7      1000 non-null   float64\n",
      " 7   F8      1000 non-null   float64\n",
      " 8   F9      1000 non-null   float64\n",
      " 9   F10     1000 non-null   float64\n",
      " 10  F11     1000 non-null   float64\n",
      " 11  F12     1000 non-null   float64\n",
      " 12  F13     1000 non-null   float64\n",
      " 13  F14     1000 non-null   float64\n",
      " 14  F15     1000 non-null   float64\n",
      " 15  F16     1000 non-null   float64\n",
      " 16  F17     1000 non-null   float64\n",
      " 17  F18     1000 non-null   float64\n",
      " 18  F19     1000 non-null   float64\n",
      " 19  F20     1000 non-null   float64\n",
      " 20  F21     500 non-null    float64\n",
      " 21  Class   1000 non-null   bool   \n",
      "dtypes: bool(1), float64(19), int64(2)\n",
      "memory usage: 165.2 KB\n"
     ]
    }
   ],
   "source": [
    "data = d_file.dropna()\n",
    "d_file.info()"
   ]
  },
  {
   "cell_type": "code",
   "execution_count": 5,
   "metadata": {},
   "outputs": [],
   "source": [
    "import seaborn as sns\n",
    "from sklearn.tree import DecisionTreeClassifier    #Import Decision Tree Classifier\n",
    "from sklearn import metrics                        ##Import scikit-learn metrics module for accuracy calculation\n",
    "from matplotlib import pyplot as plt"
   ]
  },
  {
   "cell_type": "code",
   "execution_count": 6,
   "metadata": {},
   "outputs": [],
   "source": [
    "minvalue = d_file['F21'].min()\n",
    "d_file.fillna(value =minvalue,inplace = True)\n"
   ]
  },
  {
   "cell_type": "code",
   "execution_count": 7,
   "metadata": {},
   "outputs": [
    {
     "data": {
      "text/plain": [
       "F1       0\n",
       "F2       0\n",
       "F3       0\n",
       "F4       0\n",
       "F5       0\n",
       "F6       0\n",
       "F7       0\n",
       "F8       0\n",
       "F9       0\n",
       "F10      0\n",
       "F11      0\n",
       "F12      0\n",
       "F13      0\n",
       "F14      0\n",
       "F15      0\n",
       "F16      0\n",
       "F17      0\n",
       "F18      0\n",
       "F19      0\n",
       "F20      0\n",
       "F21      0\n",
       "Class    0\n",
       "dtype: int64"
      ]
     },
     "execution_count": 7,
     "metadata": {},
     "output_type": "execute_result"
    }
   ],
   "source": [
    "d_file.isnull().sum()"
   ]
  },
  {
   "cell_type": "code",
   "execution_count": 8,
   "metadata": {},
   "outputs": [
    {
     "data": {
      "image/png": "[encoded data removed]",
      "text/plain": [
       "<Figure size 432x288 with 1 Axes>"
      ]
     },
     "metadata": {},
     "output_type": "display_data"
    }
   ],
   "source": [
    "blue_green = ['#088F8F','#7393B3']\n",
    "palette = sns.color_palette(blue_green)\n",
    "sns.set_palette(palette)\n",
    "sns.set_style(\"white\")\n",
    "sns.scatterplot(x='F1',y='F2',data=d_file);"
   ]
  },
  {
   "cell_type": "code",
   "execution_count": 9,
   "metadata": {},
   "outputs": [],
   "source": [
    "## Import train_test_split function\n",
    "from sklearn.model_selection import train_test_split "
   ]
  },
  {
   "cell_type": "code",
   "execution_count": 10,
   "metadata": {},
   "outputs": [],
   "source": [
    "i_features = d_file.drop(['Class'],axis=1)\n",
    "o_features =d_file['Class']"
   ]
  },
  {
   "cell_type": "code",
   "execution_count": 11,
   "metadata": {
    "scrolled": true
   },
   "outputs": [
    {
     "data": {
      "text/html": [
       "<div>\n",
       "<style scoped>\n",
       "    .dataframe tbody tr th:only-of-type {\n",
       "        vertical-align: middle;\n",
       "    }\n",
       "\n",
       "    .dataframe tbody tr th {\n",
       "        vertical-align: top;\n",
       "    }\n",
       "\n",
       "    .dataframe thead th {\n",
       "        text-align: right;\n",
       "    }\n",
       "</style>\n",
       "<table border=\"1\" class=\"dataframe\">\n",
       "  <thead>\n",
       "    <tr style=\"text-align: right;\">\n",
       "      <th></th>\n",
       "      <th>F1</th>\n",
       "      <th>F2</th>\n",
       "      <th>F3</th>\n",
       "      <th>F4</th>\n",
       "      <th>F5</th>\n",
       "      <th>F6</th>\n",
       "      <th>F7</th>\n",
       "      <th>F8</th>\n",
       "      <th>F9</th>\n",
       "      <th>F10</th>\n",
       "      <th>...</th>\n",
       "      <th>F12</th>\n",
       "      <th>F13</th>\n",
       "      <th>F14</th>\n",
       "      <th>F15</th>\n",
       "      <th>F16</th>\n",
       "      <th>F17</th>\n",
       "      <th>F18</th>\n",
       "      <th>F19</th>\n",
       "      <th>F20</th>\n",
       "      <th>F21</th>\n",
       "    </tr>\n",
       "  </thead>\n",
       "  <tbody>\n",
       "    <tr>\n",
       "      <th>0</th>\n",
       "      <td>1.6430</td>\n",
       "      <td>0</td>\n",
       "      <td>-4894.24</td>\n",
       "      <td>-13.0281</td>\n",
       "      <td>-4.793400</td>\n",
       "      <td>0</td>\n",
       "      <td>5.12700</td>\n",
       "      <td>-17.1100</td>\n",
       "      <td>-63.340</td>\n",
       "      <td>3.61690</td>\n",
       "      <td>...</td>\n",
       "      <td>-2.3600</td>\n",
       "      <td>5.783440</td>\n",
       "      <td>-11315.46</td>\n",
       "      <td>22912.53</td>\n",
       "      <td>-0.4</td>\n",
       "      <td>103811.34</td>\n",
       "      <td>5.4380</td>\n",
       "      <td>1747.920</td>\n",
       "      <td>-4879.68</td>\n",
       "      <td>-41.58</td>\n",
       "    </tr>\n",
       "    <tr>\n",
       "      <th>1</th>\n",
       "      <td>0.5310</td>\n",
       "      <td>0</td>\n",
       "      <td>-5085.44</td>\n",
       "      <td>-16.2210</td>\n",
       "      <td>-3.991776</td>\n",
       "      <td>0</td>\n",
       "      <td>4.62560</td>\n",
       "      <td>-4.5800</td>\n",
       "      <td>-10.314</td>\n",
       "      <td>3.64880</td>\n",
       "      <td>...</td>\n",
       "      <td>-5.9680</td>\n",
       "      <td>8.180000</td>\n",
       "      <td>-12852.96</td>\n",
       "      <td>25696.44</td>\n",
       "      <td>-0.4</td>\n",
       "      <td>103884.02</td>\n",
       "      <td>5.0960</td>\n",
       "      <td>1496.080</td>\n",
       "      <td>-4186.38</td>\n",
       "      <td>-45.96</td>\n",
       "    </tr>\n",
       "    <tr>\n",
       "      <th>2</th>\n",
       "      <td>0.2640</td>\n",
       "      <td>0</td>\n",
       "      <td>-7021.44</td>\n",
       "      <td>-11.7591</td>\n",
       "      <td>-6.161700</td>\n",
       "      <td>0</td>\n",
       "      <td>4.36280</td>\n",
       "      <td>-14.7118</td>\n",
       "      <td>-6.806</td>\n",
       "      <td>3.62830</td>\n",
       "      <td>...</td>\n",
       "      <td>-3.3914</td>\n",
       "      <td>5.760312</td>\n",
       "      <td>-11012.16</td>\n",
       "      <td>20232.84</td>\n",
       "      <td>-1.4</td>\n",
       "      <td>103987.08</td>\n",
       "      <td>2.3652</td>\n",
       "      <td>1523.412</td>\n",
       "      <td>-4067.28</td>\n",
       "      <td>-54.96</td>\n",
       "    </tr>\n",
       "    <tr>\n",
       "      <th>3</th>\n",
       "      <td>0.3196</td>\n",
       "      <td>1</td>\n",
       "      <td>-4648.76</td>\n",
       "      <td>-11.8110</td>\n",
       "      <td>-4.217700</td>\n",
       "      <td>0</td>\n",
       "      <td>8.93800</td>\n",
       "      <td>-7.5360</td>\n",
       "      <td>-4.670</td>\n",
       "      <td>3.01503</td>\n",
       "      <td>...</td>\n",
       "      <td>-2.6796</td>\n",
       "      <td>6.437100</td>\n",
       "      <td>-10297.86</td>\n",
       "      <td>23592.84</td>\n",
       "      <td>-1.4</td>\n",
       "      <td>103842.08</td>\n",
       "      <td>4.4080</td>\n",
       "      <td>1506.810</td>\n",
       "      <td>1352.52</td>\n",
       "      <td>-54.96</td>\n",
       "    </tr>\n",
       "    <tr>\n",
       "      <th>4</th>\n",
       "      <td>4.0800</td>\n",
       "      <td>0</td>\n",
       "      <td>-4877.20</td>\n",
       "      <td>-11.2635</td>\n",
       "      <td>-8.061000</td>\n",
       "      <td>1</td>\n",
       "      <td>6.28000</td>\n",
       "      <td>-14.5805</td>\n",
       "      <td>-45.920</td>\n",
       "      <td>3.60030</td>\n",
       "      <td>...</td>\n",
       "      <td>-5.0060</td>\n",
       "      <td>6.393200</td>\n",
       "      <td>-11527.38</td>\n",
       "      <td>24778.74</td>\n",
       "      <td>-1.4</td>\n",
       "      <td>103842.48</td>\n",
       "      <td>3.1334</td>\n",
       "      <td>1581.790</td>\n",
       "      <td>-5095.88</td>\n",
       "      <td>-45.93</td>\n",
       "    </tr>\n",
       "    <tr>\n",
       "      <th>...</th>\n",
       "      <td>...</td>\n",
       "      <td>...</td>\n",
       "      <td>...</td>\n",
       "      <td>...</td>\n",
       "      <td>...</td>\n",
       "      <td>...</td>\n",
       "      <td>...</td>\n",
       "      <td>...</td>\n",
       "      <td>...</td>\n",
       "      <td>...</td>\n",
       "      <td>...</td>\n",
       "      <td>...</td>\n",
       "      <td>...</td>\n",
       "      <td>...</td>\n",
       "      <td>...</td>\n",
       "      <td>...</td>\n",
       "      <td>...</td>\n",
       "      <td>...</td>\n",
       "      <td>...</td>\n",
       "      <td>...</td>\n",
       "      <td>...</td>\n",
       "    </tr>\n",
       "    <tr>\n",
       "      <th>995</th>\n",
       "      <td>0.6828</td>\n",
       "      <td>1</td>\n",
       "      <td>-5766.04</td>\n",
       "      <td>-11.8536</td>\n",
       "      <td>-4.866600</td>\n",
       "      <td>1</td>\n",
       "      <td>7.93800</td>\n",
       "      <td>-11.1720</td>\n",
       "      <td>-8.014</td>\n",
       "      <td>3.27040</td>\n",
       "      <td>...</td>\n",
       "      <td>-2.9676</td>\n",
       "      <td>7.489000</td>\n",
       "      <td>-11922.06</td>\n",
       "      <td>23569.44</td>\n",
       "      <td>-1.4</td>\n",
       "      <td>103930.52</td>\n",
       "      <td>2.8358</td>\n",
       "      <td>1551.190</td>\n",
       "      <td>-5559.68</td>\n",
       "      <td>-54.96</td>\n",
       "    </tr>\n",
       "    <tr>\n",
       "      <th>996</th>\n",
       "      <td>1.2240</td>\n",
       "      <td>1</td>\n",
       "      <td>-4424.64</td>\n",
       "      <td>-16.6770</td>\n",
       "      <td>-8.313000</td>\n",
       "      <td>1</td>\n",
       "      <td>4.91960</td>\n",
       "      <td>-15.1500</td>\n",
       "      <td>-12.676</td>\n",
       "      <td>3.81610</td>\n",
       "      <td>...</td>\n",
       "      <td>-4.8220</td>\n",
       "      <td>7.069000</td>\n",
       "      <td>-11328.69</td>\n",
       "      <td>24196.14</td>\n",
       "      <td>-0.4</td>\n",
       "      <td>103922.40</td>\n",
       "      <td>4.0364</td>\n",
       "      <td>1519.940</td>\n",
       "      <td>-4089.48</td>\n",
       "      <td>-54.96</td>\n",
       "    </tr>\n",
       "    <tr>\n",
       "      <th>997</th>\n",
       "      <td>0.9912</td>\n",
       "      <td>1</td>\n",
       "      <td>-5566.64</td>\n",
       "      <td>-10.9698</td>\n",
       "      <td>-8.364000</td>\n",
       "      <td>0</td>\n",
       "      <td>3.99842</td>\n",
       "      <td>-15.4260</td>\n",
       "      <td>-17.442</td>\n",
       "      <td>3.73230</td>\n",
       "      <td>...</td>\n",
       "      <td>-10.6160</td>\n",
       "      <td>5.875600</td>\n",
       "      <td>-12229.26</td>\n",
       "      <td>18449.64</td>\n",
       "      <td>-1.4</td>\n",
       "      <td>103872.12</td>\n",
       "      <td>3.8368</td>\n",
       "      <td>1509.360</td>\n",
       "      <td>-3772.28</td>\n",
       "      <td>-54.96</td>\n",
       "    </tr>\n",
       "    <tr>\n",
       "      <th>998</th>\n",
       "      <td>0.6697</td>\n",
       "      <td>1</td>\n",
       "      <td>-4630.96</td>\n",
       "      <td>-11.4516</td>\n",
       "      <td>-4.970700</td>\n",
       "      <td>0</td>\n",
       "      <td>8.61600</td>\n",
       "      <td>-19.5220</td>\n",
       "      <td>-1.698</td>\n",
       "      <td>3.22630</td>\n",
       "      <td>...</td>\n",
       "      <td>-3.5940</td>\n",
       "      <td>5.761497</td>\n",
       "      <td>-10846.56</td>\n",
       "      <td>23102.40</td>\n",
       "      <td>-1.4</td>\n",
       "      <td>103837.70</td>\n",
       "      <td>4.4460</td>\n",
       "      <td>1549.200</td>\n",
       "      <td>-3947.68</td>\n",
       "      <td>-40.11</td>\n",
       "    </tr>\n",
       "    <tr>\n",
       "      <th>999</th>\n",
       "      <td>0.8394</td>\n",
       "      <td>1</td>\n",
       "      <td>-5488.44</td>\n",
       "      <td>-11.9115</td>\n",
       "      <td>-5.107200</td>\n",
       "      <td>0</td>\n",
       "      <td>7.04600</td>\n",
       "      <td>-12.8750</td>\n",
       "      <td>-13.292</td>\n",
       "      <td>3.30530</td>\n",
       "      <td>...</td>\n",
       "      <td>-2.5786</td>\n",
       "      <td>6.069900</td>\n",
       "      <td>-11860.29</td>\n",
       "      <td>23621.04</td>\n",
       "      <td>-0.4</td>\n",
       "      <td>103885.30</td>\n",
       "      <td>3.4320</td>\n",
       "      <td>1522.223</td>\n",
       "      <td>-4645.08</td>\n",
       "      <td>-54.96</td>\n",
       "    </tr>\n",
       "  </tbody>\n",
       "</table>\n",
       "<p>1000 rows × 21 columns</p>\n",
       "</div>"
      ],
      "text/plain": [
       "         F1  F2       F3       F4        F5  F6       F7       F8      F9  \\\n",
       "0    1.6430   0 -4894.24 -13.0281 -4.793400   0  5.12700 -17.1100 -63.340   \n",
       "1    0.5310   0 -5085.44 -16.2210 -3.991776   0  4.62560  -4.5800 -10.314   \n",
       "2    0.2640   0 -7021.44 -11.7591 -6.161700   0  4.36280 -14.7118  -6.806   \n",
       "3    0.3196   1 -4648.76 -11.8110 -4.217700   0  8.93800  -7.5360  -4.670   \n",
       "4    4.0800   0 -4877.20 -11.2635 -8.061000   1  6.28000 -14.5805 -45.920   \n",
       "..      ...  ..      ...      ...       ...  ..      ...      ...     ...   \n",
       "995  0.6828   1 -5766.04 -11.8536 -4.866600   1  7.93800 -11.1720  -8.014   \n",
       "996  1.2240   1 -4424.64 -16.6770 -8.313000   1  4.91960 -15.1500 -12.676   \n",
       "997  0.9912   1 -5566.64 -10.9698 -8.364000   0  3.99842 -15.4260 -17.442   \n",
       "998  0.6697   1 -4630.96 -11.4516 -4.970700   0  8.61600 -19.5220  -1.698   \n",
       "999  0.8394   1 -5488.44 -11.9115 -5.107200   0  7.04600 -12.8750 -13.292   \n",
       "\n",
       "         F10  ...      F12       F13       F14       F15  F16        F17  \\\n",
       "0    3.61690  ...  -2.3600  5.783440 -11315.46  22912.53 -0.4  103811.34   \n",
       "1    3.64880  ...  -5.9680  8.180000 -12852.96  25696.44 -0.4  103884.02   \n",
       "2    3.62830  ...  -3.3914  5.760312 -11012.16  20232.84 -1.4  103987.08   \n",
       "3    3.01503  ...  -2.6796  6.437100 -10297.86  23592.84 -1.4  103842.08   \n",
       "4    3.60030  ...  -5.0060  6.393200 -11527.38  24778.74 -1.4  103842.48   \n",
       "..       ...  ...      ...       ...       ...       ...  ...        ...   \n",
       "995  3.27040  ...  -2.9676  7.489000 -11922.06  23569.44 -1.4  103930.52   \n",
       "996  3.81610  ...  -4.8220  7.069000 -11328.69  24196.14 -0.4  103922.40   \n",
       "997  3.73230  ... -10.6160  5.875600 -12229.26  18449.64 -1.4  103872.12   \n",
       "998  3.22630  ...  -3.5940  5.761497 -10846.56  23102.40 -1.4  103837.70   \n",
       "999  3.30530  ...  -2.5786  6.069900 -11860.29  23621.04 -0.4  103885.30   \n",
       "\n",
       "        F18       F19      F20    F21  \n",
       "0    5.4380  1747.920 -4879.68 -41.58  \n",
       "1    5.0960  1496.080 -4186.38 -45.96  \n",
       "2    2.3652  1523.412 -4067.28 -54.96  \n",
       "3    4.4080  1506.810  1352.52 -54.96  \n",
       "4    3.1334  1581.790 -5095.88 -45.93  \n",
       "..      ...       ...      ...    ...  \n",
       "995  2.8358  1551.190 -5559.68 -54.96  \n",
       "996  4.0364  1519.940 -4089.48 -54.96  \n",
       "997  3.8368  1509.360 -3772.28 -54.96  \n",
       "998  4.4460  1549.200 -3947.68 -40.11  \n",
       "999  3.4320  1522.223 -4645.08 -54.96  \n",
       "\n",
       "[1000 rows x 21 columns]"
      ]
     },
     "execution_count": 11,
     "metadata": {},
     "output_type": "execute_result"
    }
   ],
   "source": [
    "i_features"
   ]
  },
  {
   "cell_type": "code",
   "execution_count": 12,
   "metadata": {},
   "outputs": [],
   "source": [
    "X = i_features  # Features\n",
    "y = o_features  # Target variable\n",
    "X_train, X_test, y_train, y_test = train_test_split(X,y, test_size=0.2,random_state=1)  # 80% training and 20% test\n"
   ]
  },
  {
   "cell_type": "code",
   "execution_count": 13,
   "metadata": {},
   "outputs": [
    {
     "name": "stdout",
     "output_type": "stream",
     "text": [
      "(800, 21) (200, 21) (800,) (200,)\n"
     ]
    }
   ],
   "source": [
    "print(X_train.shape, X_test.shape, y_train.shape, y_test.shape)"
   ]
  },
  {
   "cell_type": "code",
   "execution_count": 14,
   "metadata": {},
   "outputs": [],
   "source": [
    "t_clf = DecisionTreeClassifier()  # Create Decision Tree classifer object\n",
    "t_clf = t_clf.fit(X_train,y_train) # Train the object\n",
    "y_pred = t_clf.predict(X_test)  #Predict the response for test dataset\n",
    "\n"
   ]
  },
  {
   "cell_type": "code",
   "execution_count": 15,
   "metadata": {},
   "outputs": [],
   "source": [
    "# to check and evalute the model performance\n",
    "from sklearn.metrics import confusion_matrix,classification_report,accuracy_score  "
   ]
  },
  {
   "cell_type": "code",
   "execution_count": 16,
   "metadata": {},
   "outputs": [],
   "source": [
    "predictions = t_clf.predict(X_test)"
   ]
  },
  {
   "cell_type": "code",
   "execution_count": 17,
   "metadata": {},
   "outputs": [
    {
     "name": "stdout",
     "output_type": "stream",
     "text": [
      "[[98 16]\n",
      " [16 70]]\n"
     ]
    }
   ],
   "source": [
    "print(confusion_matrix(y_test,predictions))"
   ]
  },
  {
   "cell_type": "code",
   "execution_count": 18,
   "metadata": {},
   "outputs": [
    {
     "name": "stdout",
     "output_type": "stream",
     "text": [
      "              precision    recall  f1-score   support\n",
      "\n",
      "       False       0.86      0.86      0.86       114\n",
      "        True       0.81      0.81      0.81        86\n",
      "\n",
      "    accuracy                           0.84       200\n",
      "   macro avg       0.84      0.84      0.84       200\n",
      "weighted avg       0.84      0.84      0.84       200\n",
      "\n"
     ]
    }
   ],
   "source": [
    "print(classification_report(y_test,predictions))"
   ]
  },
  {
   "cell_type": "code",
   "execution_count": 19,
   "metadata": {},
   "outputs": [
    {
     "name": "stdout",
     "output_type": "stream",
     "text": [
      "Accuracy: 0.84\n"
     ]
    }
   ],
   "source": [
    "print(\"Accuracy:\",metrics.accuracy_score(y_test, y_pred))"
   ]
  },
  {
   "cell_type": "code",
   "execution_count": 20,
   "metadata": {},
   "outputs": [],
   "source": [
    "from sklearn.ensemble import RandomForestClassifier  #Import Random Forest Model\n",
    "clf=RandomForestClassifier(n_estimators=50)\n",
    "clf.fit(X_train,y_train)\n",
    "y_pred=clf.predict(X_test)"
   ]
  },
  {
   "cell_type": "code",
   "execution_count": 21,
   "metadata": {},
   "outputs": [
    {
     "name": "stdout",
     "output_type": "stream",
     "text": [
      "[[98 16]\n",
      " [16 70]]\n"
     ]
    }
   ],
   "source": [
    "print(confusion_matrix(y_test,predictions))"
   ]
  },
  {
   "cell_type": "code",
   "execution_count": 22,
   "metadata": {},
   "outputs": [
    {
     "name": "stdout",
     "output_type": "stream",
     "text": [
      "              precision    recall  f1-score   support\n",
      "\n",
      "       False       0.86      0.86      0.86       114\n",
      "        True       0.81      0.81      0.81        86\n",
      "\n",
      "    accuracy                           0.84       200\n",
      "   macro avg       0.84      0.84      0.84       200\n",
      "weighted avg       0.84      0.84      0.84       200\n",
      "\n"
     ]
    }
   ],
   "source": [
    "print(classification_report(y_test,predictions))"
   ]
  },
  {
   "cell_type": "code",
   "execution_count": 23,
   "metadata": {},
   "outputs": [
    {
     "name": "stdout",
     "output_type": "stream",
     "text": [
      "Accuracy: 0.85\n"
     ]
    }
   ],
   "source": [
    "print(\"Accuracy:\",metrics.accuracy_score(y_test, y_pred))"
   ]
  },
  {
   "cell_type": "code",
   "execution_count": 24,
   "metadata": {},
   "outputs": [],
   "source": [
    "from sklearn.neighbors import KNeighborsClassifier\n",
    "fig = KNeighborsClassifier(n_neighbors = 6)\n",
    "fig.fit(X_train, y_train)\n",
    "y_pred=fig.predict(X_test)\n"
   ]
  },
  {
   "cell_type": "code",
   "execution_count": 25,
   "metadata": {},
   "outputs": [
    {
     "name": "stdout",
     "output_type": "stream",
     "text": [
      "[[98 16]\n",
      " [16 70]]\n"
     ]
    }
   ],
   "source": [
    "print(confusion_matrix(y_test,predictions))"
   ]
  },
  {
   "cell_type": "code",
   "execution_count": 26,
   "metadata": {},
   "outputs": [
    {
     "name": "stdout",
     "output_type": "stream",
     "text": [
      "              precision    recall  f1-score   support\n",
      "\n",
      "       False       0.86      0.86      0.86       114\n",
      "        True       0.81      0.81      0.81        86\n",
      "\n",
      "    accuracy                           0.84       200\n",
      "   macro avg       0.84      0.84      0.84       200\n",
      "weighted avg       0.84      0.84      0.84       200\n",
      "\n"
     ]
    }
   ],
   "source": [
    "print(classification_report(y_test,predictions))"
   ]
  },
  {
   "cell_type": "code",
   "execution_count": 27,
   "metadata": {},
   "outputs": [
    {
     "name": "stdout",
     "output_type": "stream",
     "text": [
      "Accuracy: 0.685\n"
     ]
    }
   ],
   "source": [
    "print(\"Accuracy:\",metrics.accuracy_score(y_test, y_pred))"
   ]
  },
  {
   "cell_type": "markdown",
   "metadata": {},
   "source": [
    "### Part B"
   ]
  },
  {
   "cell_type": "code",
   "execution_count": 28,
   "metadata": {},
   "outputs": [],
   "source": [
    "# HERE YOU WILL USE THIS TEMPLATE TO SAVE THE PREDICTIONS ON THE TEST SET\n",
    "\n",
    "# Load the test data\n",
    "test_df = pd.read_csv('CE802_P2_Test.csv')\n",
    "\n",
    "# Make sure you work on a copy\n",
    "test_data = test_df.iloc[:,:-1].copy()\n",
    "d_file.isnull().sum()\n",
    "minvalue = d_file['F21'].min()\n",
    "test_data.fillna(value =minvalue,inplace = True)\n",
    "test_data.isnull().sum()\n",
    "\n",
    "\n",
    "\n",
    "predicted =clf.predict(test_data)# CHANGE HERE -- use your previously trained predictor and apply it to test_data\n",
    "                # (test_data can be modified if needed but make sure you don't change the order of the rows)...\n",
    "\n",
    "# Replace the last (empty) column with your prediction\n",
    "test_df.iloc[:,-1] = predicted\n",
    "\n",
    "# Save to the destination file\n",
    "test_df.to_csv('CE802_P2_Test_Predictions.csv', index=False, float_format='%.8g')\n",
    "\n",
    "# IMPORTANT!! Make sure only the last column has changed\n",
    "assert pd.read_csv('CE802_P2_Test.csv').iloc[:,:-1].equals(pd.read_csv('CE802_P2_Test_Predictions.csv').iloc[:,:-1])"
   ]
  },
  {
   "cell_type": "code",
   "execution_count": null,
   "metadata": {},
   "outputs": [],
   "source": []
  }
 ],
 "metadata": {
  "kernelspec": {
   "display_name": "Python 3",
   "language": "python",
   "name": "python3"
  },
  "language_info": {
   "codemirror_mode": {
    "name": "ipython",
    "version": 3
   },
   "file_extension": ".py",
   "mimetype": "text/x-python",
   "name": "python",
   "nbconvert_exporter": "python",
   "pygments_lexer": "ipython3",
   "version": "3.8.8"
  }
 },
 "nbformat": 4,
 "nbformat_minor": 4
}
